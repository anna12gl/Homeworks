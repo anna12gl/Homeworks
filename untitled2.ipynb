{
  "nbformat": 4,
  "nbformat_minor": 0,
  "metadata": {
    "colab": {
      "provenance": [],
      "authorship_tag": "ABX9TyMda2d5YuE4KhXUCkuHDmxX",
      "include_colab_link": true
    },
    "kernelspec": {
      "name": "python3",
      "display_name": "Python 3"
    },
    "language_info": {
      "name": "python"
    }
  },
  "cells": [
    {
      "cell_type": "markdown",
      "metadata": {
        "id": "view-in-github",
        "colab_type": "text"
      },
      "source": [
        "<a href=\"https://colab.research.google.com/github/anna12gl/Homeworks/blob/main/untitled2.ipynb\" target=\"_parent\"><img src=\"https://colab.research.google.com/assets/colab-badge.svg\" alt=\"Open In Colab\"/></a>"
      ]
    },
    {
      "cell_type": "markdown",
      "source": [
        "# Задача 1.1.\n",
        "### Есть строка с перечислением песен\n",
        "* my_favorite_songs = 'Waste a Moment, Staying\\' Alive, A Sorta Fairytale, Start Me Up, New Salvation'\n",
        "#### Выведите на консоль с помощью индексации строки, последовательно: первый трек, последний, второй, второй с конца\n",
        "#### Нельзя переопределять my_favorite_songs и запятая не должна выводиться.\n"
      ],
      "metadata": {
        "id": "npi1p6lraINO"
      }
    },
    {
      "cell_type": "code",
      "source": [
        "str = \"my_favorite_songs= Waste Moment Staying, Alive, A Sorta Fairytale, Start Me Up, New Salvation\"\n",
        "print (len(str))\n",
        "print(str [-93:-54])\n",
        "print(str [-93:-75] + str [-14:])\n",
        "print(str [-93:-75] + str [-53:-47])\n",
        "print(str [-93:-75] + str [-27:-15])\n",
        "\n",
        "\n",
        "\n",
        "\n"
      ],
      "metadata": {
        "colab": {
          "base_uri": "https://localhost:8080/"
        },
        "id": "4IAoZHuuaWm2",
        "outputId": "bf8ece10-3f45-414c-a402-b2e22693ff7f"
      },
      "execution_count": null,
      "outputs": [
        {
          "output_type": "stream",
          "name": "stdout",
          "text": [
            "93\n",
            "my_favorite_songs= Waste Moment Staying\n",
            "my_favorite_songs= New Salvation\n",
            "my_favorite_songs= Alive\n",
            "my_favorite_songs= Start Me Up\n"
          ]
        }
      ]
    }
  ]
}
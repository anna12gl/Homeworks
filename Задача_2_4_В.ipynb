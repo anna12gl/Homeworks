{
  "nbformat": 4,
  "nbformat_minor": 0,
  "metadata": {
    "colab": {
      "provenance": [],
      "authorship_tag": "ABX9TyOmRGq6Plxk1fXD77lYZSPh",
      "include_colab_link": true
    },
    "kernelspec": {
      "name": "python3",
      "display_name": "Python 3"
    },
    "language_info": {
      "name": "python"
    }
  },
  "cells": [
    {
      "cell_type": "markdown",
      "metadata": {
        "id": "view-in-github",
        "colab_type": "text"
      },
      "source": [
        "<a href=\"https://colab.research.google.com/github/anna12gl/Homeworks/blob/main/%D0%97%D0%B0%D0%B4%D0%B0%D1%87%D0%B0_2_4_%D0%92.ipynb\" target=\"_parent\"><img src=\"https://colab.research.google.com/assets/colab-badge.svg\" alt=\"Open In Colab\"/></a>"
      ]
    },
    {
      "cell_type": "markdown",
      "source": [
        "## Задача 2.4 Пункт B.\n",
        "##### Удалите восклицательный знак из конца строки. \n",
        "* remove(\"Hi!\") == \"Hi\"\n",
        "* remove(\"Hi!!!\") == \"Hi!!\"\n",
        "* remove(\"!Hi\") == \"!Hi\"\n",
        "\n",
        "def remove_last_em(s):\n",
        "    pass"
      ],
      "metadata": {
        "id": "vPjF2m7tClaU"
      }
    },
    {
      "cell_type": "code",
      "execution_count": 1,
      "metadata": {
        "colab": {
          "base_uri": "https://localhost:8080/"
        },
        "id": "k2fjucs_Bo0A",
        "outputId": "e1b07d1a-eb22-45e0-cc56-52abd2089a24"
      },
      "outputs": [
        {
          "output_type": "stream",
          "name": "stdout",
          "text": [
            "Hi\n",
            "Hi!!\n",
            "!Hi\n"
          ]
        }
      ],
      "source": [
        "def remove_last_em(s):\n",
        "    if s[-1] == \"!\":\n",
        "        s = s[:-1]\n",
        "    return s\n",
        "print(remove_last_em(\"Hi!\"))    # Hi\n",
        "print(remove_last_em(\"Hi!!!\"))  # Hi!!\n",
        "print(remove_last_em(\"!Hi\"))    # !Hi"
      ]
    }
  ]
}
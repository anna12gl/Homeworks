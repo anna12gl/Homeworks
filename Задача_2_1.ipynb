{
  "nbformat": 4,
  "nbformat_minor": 0,
  "metadata": {
    "colab": {
      "provenance": [],
      "authorship_tag": "ABX9TyOB34/S1sFCBPp8mqr9s/2g",
      "include_colab_link": true
    },
    "kernelspec": {
      "name": "python3",
      "display_name": "Python 3"
    },
    "language_info": {
      "name": "python"
    }
  },
  "cells": [
    {
      "cell_type": "markdown",
      "metadata": {
        "id": "view-in-github",
        "colab_type": "text"
      },
      "source": [
        "<a href=\"https://colab.research.google.com/github/anna12gl/Homeworks/blob/main/%D0%97%D0%B0%D0%B4%D0%B0%D1%87%D0%B0_2_1.ipynb\" target=\"_parent\"><img src=\"https://colab.research.google.com/assets/colab-badge.svg\" alt=\"Open In Colab\"/></a>"
      ]
    },
    {
      "cell_type": "markdown",
      "source": [
        "Задача 2.1.\n",
        "Создайте две функции maximum и minimum,\n",
        "которые получают список целых чисел в качестве входных данных\n",
        "и возвращают наибольшее и наименьшее число в этом списке соответственно.\n",
        "Например,\n",
        "\n",
        "* [4,6,2,1,9,63,-134,566] -> max = 566, min = -134\n",
        "* [-52, 56, 30, 29, -54, 0, -110] -> min = -110, max = 56\n",
        "* [42, 54, 65, 87, 0] -> min = 0, max = 87\n",
        "* [5] -> min = 5, max = 5\n",
        "функции sorted, max и min использовать нельзя!\n",
        "def minimum(arr): pass\n",
        "\n",
        "def maximum(arr): pass"
      ],
      "metadata": {
        "id": "jGBfjhbp3gKs"
      }
    },
    {
      "cell_type": "code",
      "execution_count": 1,
      "metadata": {
        "colab": {
          "base_uri": "https://localhost:8080/"
        },
        "id": "UfkFu2pT3WD9",
        "outputId": "3a0461c0-7d88-4fb8-bcfd-1ebb4c8ceffe"
      },
      "outputs": [
        {
          "output_type": "stream",
          "name": "stdout",
          "text": [
            "6\n",
            "6\n",
            "-106\n",
            "56\n",
            "42\n",
            "54\n",
            "None\n",
            "None\n"
          ]
        }
      ],
      "source": [
        "def minimum(arr): \n",
        "  min_num = arr[0] \n",
        "  for num in arr:\n",
        "    if num < min_num:\n",
        "     min_num += num\n",
        "     return (min_num)\n",
        "\n",
        "def maximum(arr):\n",
        "  max_num = arr[0]\n",
        "  for num in arr:\n",
        "   if num > max_num:\n",
        "    max_num = num\n",
        "    return (max_num)\n",
        "\n",
        "# Тесты\n",
        "print(minimum([4,6,2,1,9,63,-134,566])) # -134\n",
        "print(maximum([4,6,2,1,9,63,-134,566])) # 566\n",
        "\n",
        "print(minimum([-52, 56, 30, 29, -54, 0, -110])) # -110\n",
        "print(maximum([-52, 56, 30, 29, -54, 0, -110])) # 56\n",
        "\n",
        "print(minimum([42, 54, 65, 87, 0])) # 0\n",
        "print(maximum([42, 54, 65, 87, 0])) # 87\n",
        "\n",
        "print(minimum([5])) # 5\n",
        "print(maximum([5])) # 5"
      ]
    }
  ]
}
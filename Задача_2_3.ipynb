{
  "nbformat": 4,
  "nbformat_minor": 0,
  "metadata": {
    "colab": {
      "provenance": [],
      "authorship_tag": "ABX9TyPTY+P/+GtPybNZt5CdHpYA",
      "include_colab_link": true
    },
    "kernelspec": {
      "name": "python3",
      "display_name": "Python 3"
    },
    "language_info": {
      "name": "python"
    }
  },
  "cells": [
    {
      "cell_type": "markdown",
      "metadata": {
        "id": "view-in-github",
        "colab_type": "text"
      },
      "source": [
        "<a href=\"https://colab.research.google.com/github/anna12gl/Homeworks/blob/main/%D0%97%D0%B0%D0%B4%D0%B0%D1%87%D0%B0_2_3.ipynb\" target=\"_parent\"><img src=\"https://colab.research.google.com/assets/colab-badge.svg\" alt=\"Open In Colab\"/></a>"
      ]
    },
    {
      "cell_type": "markdown",
      "source": [
        "## Задача 2.3.\n",
        "####Напишите функцию, которая принимает цифры от 0 до 9 и возвращает значение прописью.\n",
        "*Например,\n",
        "switch_it_up(1) -> 'One'\n",
        "switch_it_up(3) -> 'Three'\n",
        "switch_it_up(10000) -> None\n",
        "#### Использовать условный оператор if-elif-else нельзя!\n",
        "def switch_it_up(number): pass"
      ],
      "metadata": {
        "id": "k0iIVzH5_J87"
      }
    },
    {
      "cell_type": "code",
      "execution_count": 1,
      "metadata": {
        "colab": {
          "base_uri": "https://localhost:8080/"
        },
        "id": "_vEiyjf5_I-G",
        "outputId": "71b2d30a-dddb-4c39-af42-fcd2374a2664"
      },
      "outputs": [
        {
          "output_type": "stream",
          "name": "stdout",
          "text": [
            "One\n",
            "Three\n",
            "Zero\n",
            "Seven\n",
            "None\n"
          ]
        }
      ],
      "source": [
        "def switch_it_up(number):\n",
        " num_dict = {\n",
        "0: 'Zero',\n",
        "1: 'One',\n",
        "2: 'Two',\n",
        "3: 'Three',\n",
        "4: 'Four',\n",
        "5: 'Five',\n",
        "6: 'Six',\n",
        "7: 'Seven',\n",
        "8: 'Eight',\n",
        "9: 'Nine'\n",
        "}\n",
        " return num_dict.get(number, None)\n",
        "\n",
        "#проверка работы функции\n",
        "print(switch_it_up(1))   # 'One'\n",
        "print(switch_it_up(3))   # 'Three'\n",
        "print(switch_it_up(0))   # 'Zero'\n",
        "print(switch_it_up(7))   # 'Seven'\n",
        "print(switch_it_up(10))  # None"
      ]
    }
  ]
}
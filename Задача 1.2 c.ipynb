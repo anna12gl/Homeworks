{
  "nbformat": 4,
  "nbformat_minor": 0,
  "metadata": {
    "colab": {
      "provenance": [],
      "authorship_tag": "ABX9TyMvoZW/rvkFsI4JeJ9i1RZt",
      "include_colab_link": true
    },
    "kernelspec": {
      "name": "python3",
      "display_name": "Python 3"
    },
    "language_info": {
      "name": "python"
    }
  },
  "cells": [
    {
      "cell_type": "markdown",
      "metadata": {
        "id": "view-in-github",
        "colab_type": "text"
      },
      "source": [
        "<a href=\"https://colab.research.google.com/github/anna12gl/Homeworks/blob/main/%D0%97%D0%B0%D0%B4%D0%B0%D1%87%D0%B0%201.2%20c.ipynb\" target=\"_parent\"><img src=\"https://colab.research.google.com/assets/colab-badge.svg\" alt=\"Open In Colab\"/></a>"
      ]
    },
    {
      "cell_type": "markdown",
      "source": [
        "## Задача 1.2. пункт C.\n",
        "#### Сгенерируйте случайные песни с помощью модуля random\n",
        "#### import random"
      ],
      "metadata": {
        "id": "wKuzeNSuABno"
      }
    },
    {
      "cell_type": "code",
      "execution_count": 7,
      "metadata": {
        "colab": {
          "base_uri": "https://localhost:8080/"
        },
        "id": "vNK0hLpO_3Gs",
        "outputId": "64ac5165-a9d3-411a-aa5f-4a3a45b94e8f"
      },
      "outputs": [
        {
          "output_type": "stream",
          "name": "stdout",
          "text": [
            "Рандомный поиcк 3-х случайных песен  из списка x:  [['In This World', 4.02], ['Beautiful Day', 4.04], ['Easy', 4.15]]\n"
          ]
        }
      ],
      "source": [
        "import random\n",
        "my_favorite_songs = [\n",
        "    ['Waste a Moment', 3.03],\n",
        "    ['New Salvation', 4.02],\n",
        "    ['Staying\\' Alive', 3.40],\n",
        "    ['Out of Touch', 3.03],\n",
        "    ['A Sorta Fairytale', 5.28],\n",
        "    ['Easy', 4.15],\n",
        "    ['Beautiful Day', 4.04],\n",
        "    ['Nowhere to Run', 2.58],\n",
        "    ['In This World', 4.02]]\n",
        "songs = random.sample(my_favorite_songs, 3)\n",
        "print (\"Рандомный поиcк 3-х случайных песен  из списка x: \", songs)"
      ]
    }
  ]
}
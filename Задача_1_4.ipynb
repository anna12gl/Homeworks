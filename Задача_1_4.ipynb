{
  "nbformat": 4,
  "nbformat_minor": 0,
  "metadata": {
    "colab": {
      "provenance": [],
      "authorship_tag": "ABX9TyM4npfkCGB4wH/4PGhSGYAI",
      "include_colab_link": true
    },
    "kernelspec": {
      "name": "python3",
      "display_name": "Python 3"
    },
    "language_info": {
      "name": "python"
    }
  },
  "cells": [
    {
      "cell_type": "markdown",
      "metadata": {
        "id": "view-in-github",
        "colab_type": "text"
      },
      "source": [
        "<a href=\"https://colab.research.google.com/github/anna12gl/Homeworks/blob/main/%D0%97%D0%B0%D0%B4%D0%B0%D1%87%D0%B0_1_4.ipynb\" target=\"_parent\"><img src=\"https://colab.research.google.com/assets/colab-badge.svg\" alt=\"Open In Colab\"/></a>"
      ]
    },
    {
      "cell_type": "markdown",
      "source": [
        "###Задача 1.4.\n",
        "Есть словарь кодов товаров titles\n",
        "####titles\n",
        "{ 'Кроссовки тип 3 (Adidas)': '100000110', 'Мячик тип 2 (Adidas)': '100000146', 'Кепка тип 1 (Adidas)': '100000149', 'Ремень тип 2 (Nike)': '100000194', 'Футболка тип 1 (Adidas)': '100000224', 'Шапка тип 5 (Puma)': '100000280', }\n",
        "\n",
        "##### Товары находятся на складе и сохранены в виде словаря списков словарей, которые отражают количество товаров в магазине по каждому коду.\n",
        "#### store = \n",
        "{ '100000110': [{'quantity': 31, 'price': 1637}], '100000146': [ {'quantity': 4, 'price': 45}, {'quantity': 10, 'price': 48}], '100000149': [ {'quantity': 28, 'price': 279}, {'quantity': 32, 'price': 291}], '100000194': [{'quantity': 8, 'price': 220}, {'quantity': 1, 'price': 170}], '100000224': [{'quantity': 61, 'price': 438}, {'quantity': 23, 'price': 302}, {'quantity': 50, 'price': 412}], '100000280': [{'quantity': 26, 'price': 175}, ] }\n",
        "\n",
        "*Рассчитайте на какую сумму лежит каждого товара на складе.\n",
        "Вывести суммарную стоимость каждого товара в магазине в формате:\n",
        "\"<товар> - <кол-во> шт, стоимость <общая стоимость> руб\"\n",
        "Пример: \"Кроссовки тип 3 (Adidas) - 31 шт, стоимость 50747 руб\""
      ],
      "metadata": {
        "id": "_hZqUFJEMsiI"
      }
    },
    {
      "cell_type": "code",
      "execution_count": 1,
      "metadata": {
        "id": "KcCQUnvUMo0y",
        "colab": {
          "base_uri": "https://localhost:8080/"
        },
        "outputId": "9fd66cab-0204-46ed-9330-434f960bf4c3"
      },
      "outputs": [
        {
          "output_type": "stream",
          "name": "stdout",
          "text": [
            "Кроссовки тип 3 (Adidas) - 31 шт, стоимость 1637 руб\n",
            "Мячик тип 2 (Adidas) - 14 шт, стоимость 48 руб\n",
            "Кепка тип 1 (Adidas) - 60 шт, стоимость 291 руб\n",
            "Ремень тип 2 (Nike) - 9 шт, стоимость 170 руб\n",
            "Футболка тип 1 (Adidas) - 134 шт, стоимость 412 руб\n",
            "Шапка тип 5 (Puma) - 26 шт, стоимость 175 руб\n"
          ]
        }
      ],
      "source": [
        "titles = {\n",
        "    'Кроссовки тип 3 (Adidas)': '100000110',\n",
        "    'Мячик тип 2 (Adidas)': '100000146',\n",
        "    'Кепка тип 1 (Adidas)': '100000149',\n",
        "    'Ремень тип 2 (Nike)': '100000194',\n",
        "    'Футболка тип 1 (Adidas)': '100000224',\n",
        "    'Шапка тип 5 (Puma)': '100000280',\n",
        "}\n",
        "store = {\n",
        "    '100000110': [{'quantity': 31, 'price': 1637}],\n",
        "    '100000146': [ {'quantity': 4, 'price': 45}, {'quantity': 10, 'price': 48}],\n",
        "    '100000149': [ {'quantity': 28, 'price': 279}, {'quantity': 32, 'price': 291}],\n",
        "    '100000194': [{'quantity': 8, 'price': 220}, {'quantity': 1, 'price': 170}],\n",
        "    '100000224': [{'quantity': 61, 'price': 438}, {'quantity': 23, 'price': 302},  {'quantity': 50, 'price': 412}],\n",
        "    '100000280': [{'quantity': 26, 'price': 175}, ]}\n",
        "\n",
        "for title, code in titles.items():\n",
        "    total_cost = 0\n",
        "    total_quantity = 0\n",
        "    for item in store[code]:\n",
        "        total_quantity += item['quantity'] \n",
        "        total_cost = item['price'] \n",
        "    print(f\"{title} - {sum(item['quantity'] for item in store[code])} шт, стоимость {total_cost} руб\")\n"
      ]
    }
  ]
}
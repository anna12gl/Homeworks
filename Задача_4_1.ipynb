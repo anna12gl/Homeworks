{
  "nbformat": 4,
  "nbformat_minor": 0,
  "metadata": {
    "colab": {
      "provenance": [],
      "authorship_tag": "ABX9TyPulByv9HJR1WnM4Tg7Bnqb",
      "include_colab_link": true
    },
    "kernelspec": {
      "name": "python3",
      "display_name": "Python 3"
    },
    "language_info": {
      "name": "python"
    }
  },
  "cells": [
    {
      "cell_type": "markdown",
      "metadata": {
        "id": "view-in-github",
        "colab_type": "text"
      },
      "source": [
        "<a href=\"https://colab.research.google.com/github/anna12gl/Homeworks/blob/main/%D0%97%D0%B0%D0%B4%D0%B0%D1%87%D0%B0_4_1.ipynb\" target=\"_parent\"><img src=\"https://colab.research.google.com/assets/colab-badge.svg\" alt=\"Open In Colab\"/></a>"
      ]
    },
    {
      "cell_type": "markdown",
      "source": [],
      "metadata": {
        "id": "lS3N6_H1Y5HE"
      }
    },
    {
      "cell_type": "markdown",
      "source": [
        "###Домашнее задание на SQL\n",
        "В базе данных teacher создайте таблицу Students\n",
        "Структура таблицы: Student_Id - Integer, Student_Name - Text, School_Id - Integer (Primary key)\n",
        "Наполните таблицу следующими данными:\n",
        "201, Иван, 1\n",
        "202, Петр, 2\n",
        "203, Анастасия, 3\n",
        "204, Игорь, 4\n",
        "Напишите программу, с помощью которой по ID студента можно получать информацию о школе и студенте.\n",
        "Формат вывода:\n",
        "ID Студента:\n",
        "Имя студента:\n",
        "ID школы:\n",
        "Название школы:"
      ],
      "metadata": {
        "id": "0vk0gQT2Y9Fu"
      }
    },
    {
      "cell_type": "code",
      "execution_count": 2,
      "metadata": {
        "colab": {
          "base_uri": "https://localhost:8080/"
        },
        "id": "L0uyxTg2EbCR",
        "outputId": "c6ca37a8-1724-4c79-cd47-6133517e7601"
      },
      "outputs": [
        {
          "output_type": "stream",
          "name": "stdout",
          "text": [
            "   Student_id Student_name  School_id\n",
            "0         201         Иван          1\n",
            "1         202         Петр          2\n",
            "2         203    Анастасия          3\n",
            "3         204        Игорь          4\n",
            "ok\n"
          ]
        }
      ],
      "source": [
        "import sqlite3\n",
        "import pandas as pd\n",
        "connection = sqlite3.connect(\"Students.db\")\n",
        "query = \"SELECT * FROM Students\"\n",
        "df = pd.read_sql(query,connection)\n",
        "print(df)\n",
        "\n",
        "connection2 = sqlite3.connect(\"teachers.db\")\n",
        "df.to_sql(\"Students\", connection2, index = False)\n",
        "print('ok')\n"
      ]
    },
    {
      "cell_type": "code",
      "source": [
        "import sqlite3\n",
        "\n",
        "def get_student(student_id):\n",
        "  connection = sqlite3.connect(\"teachers.db\")\n",
        "  cursor = connection.cursor()\n",
        "  query = \"SELECT * FROM School JOIN Students ON School.School_Id = Students.School_Id WHERE Students.Student_id = ?\"\n",
        "  cursor.execute(query,(student_id,))\n",
        "  records = cursor.fetchall()\n",
        "  print(records)\n",
        "  for row in records:\n",
        "    print()\n",
        "\n",
        "get_student(201)"
      ],
      "metadata": {
        "colab": {
          "base_uri": "https://localhost:8080/"
        },
        "id": "_1HnB7XWUnX8",
        "outputId": "8f787091-9eb4-4347-ca3b-f35a27ce9c69"
      },
      "execution_count": 4,
      "outputs": [
        {
          "output_type": "stream",
          "name": "stdout",
          "text": [
            "[(1, 'Протон', 200, 201, 'Иван', 1)]\n",
            "\n"
          ]
        }
      ]
    }
  ]
}
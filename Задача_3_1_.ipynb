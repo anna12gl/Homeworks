{
  "nbformat": 4,
  "nbformat_minor": 0,
  "metadata": {
    "colab": {
      "provenance": [],
      "authorship_tag": "ABX9TyObdoZ635kS3IxEHUyghF5W",
      "include_colab_link": true
    },
    "kernelspec": {
      "name": "python3",
      "display_name": "Python 3"
    },
    "language_info": {
      "name": "python"
    }
  },
  "cells": [
    {
      "cell_type": "markdown",
      "metadata": {
        "id": "view-in-github",
        "colab_type": "text"
      },
      "source": [
        "<a href=\"https://colab.research.google.com/github/anna12gl/Homeworks/blob/main/%D0%97%D0%B0%D0%B4%D0%B0%D1%87%D0%B0_3_1_.ipynb\" target=\"_parent\"><img src=\"https://colab.research.google.com/assets/colab-badge.svg\" alt=\"Open In Colab\"/></a>"
      ]
    },
    {
      "cell_type": "markdown",
      "source": [
        "##Задача 3.1.\n",
        "####Создайте класс матрицы (или таблицы).\n",
        "####Требования к классу:\n",
        "- каждая колонка является числом от 1 до n (n любое число, которые вы поставите!)\n",
        "- в каждой ячейке содержится либо число, либо None\n",
        "- доступы следующие методы матрицы:\n",
        "** принимать новые значения, \n",
        "** заменять существующие значения, \n",
        "** выводить число строк и колонок.\n",
        "\n",
        "####Пример матрицы 10 на 10 из единиц:\n",
        "[1, 1, 1, 1, 1, 1, 1, 1, 1, 1],\n",
        " [1, 1, 1, 1, 1, 1, 1, 1, 1, 1],\n",
        "[1, 1, 1, 1, 1, 1, 1, 1, 1, 1],\n",
        "[1, 1, 1, 1, 1, 1, 1, 1, 1, 1],\n",
        "[1, 1, 1, 1, 1, 1, 1, 1, 1, 1],\n",
        "[1, 1, 1, 1, 1, 1, 1, 1, 1, 1],\n",
        "[1, 1, 1, 1, 1, 1, 1, 1, 1, 1],\n",
        "[1, 1, 1, 1, 1, 1, 1, 1, 1, 1],\n",
        "[1, 1, 1, 1, 1, 1, 1, 1, 1, 1],\n",
        "[1, 1, 1, 1, 1, 1, 1, 1, 1, 1]]\n",
        "#####*Примечание! \n",
        "- новый класс не запрещено строить на базе существующих типов данных: списков, словарей и тд.\n",
        "- отображать в таблице/матрице название колонки не обязательно!\n",
        "- использовать готовые классы numpy.array() и pandas.DataFrame() запрещено!\n",
        "- проявите фантазию :)"
      ],
      "metadata": {
        "id": "xmbs5nieEhwE"
      }
    },
    {
      "cell_type": "code",
      "execution_count": 8,
      "metadata": {
        "id": "Tfu6xMwrEWzt"
      },
      "outputs": [],
      "source": [
        "class Matrix:\n",
        " def init(self, rows, cols):\n",
        "  self.matrix = [[None for _ in range(cols)] for _ in range(rows)]\n",
        "  self.rows = rows\n",
        "  self.cols = cols\n",
        " def set_value(self, row, col, value):\n",
        "    if row < self.rows and col < self.cols:\n",
        "        self.matrix[row][col] = value\n",
        "    else:\n",
        "        print(\"Error: Invalid row or column number!\")\n",
        "\n",
        "def replace_value(self, row, col, value):\n",
        "    if row < self.rows and col < self.cols:\n",
        "        self.matrix[row][col] = value\n",
        "    else:\n",
        "        print(\"Error: Invalid row or column number!\")\n",
        "\n",
        "def get_rows_cols(self):\n",
        "    return self.rows, self.cols\n",
        "\n",
        "def print_matrix(self):\n",
        "    for row in self.matrix:\n",
        "        print(row)\n",
        "    m = Matrix(10, 10)\n",
        "    m.print_matrix()\n",
        "    print()\n",
        "\n",
        "    m.set_value(0, 0, 1)\n",
        "    m.set_value(1, 1, 1)\n",
        "    m.set_value(2, 2, 1)\n",
        "    m.set_value(3, 3, 1)\n",
        "    m.set_value(4, 4, 1)\n",
        "    m.set_value(5, 5, 1)\n",
        "    m.set_value(6, 6, 1)\n",
        "    m.set_value(7, 7, 1)\n",
        "    m.set_value(8, 8, 1)\n",
        "    m.set_value(9, 9, 1)\n",
        "\n",
        "    m.print_matrix()\n",
        "    print()\n",
        "\n",
        "    m.replace_value(3, 3, 2)\n",
        "    m.replace_value(5, 5, 2)\n",
        "\n",
        "    m.print_matrix()\n",
        "    print()\n",
        "\n",
        "    print(\"Rows: {}, Cols: {}\".format(*m.get_rows_cols()))\n",
        "  "
      ]
    }
  ]
}
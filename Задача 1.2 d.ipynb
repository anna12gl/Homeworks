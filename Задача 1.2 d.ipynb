{
  "nbformat": 4,
  "nbformat_minor": 0,
  "metadata": {
    "colab": {
      "provenance": [],
      "authorship_tag": "ABX9TyOfymMm/iARS/7k6hBCEPCo",
      "include_colab_link": true
    },
    "kernelspec": {
      "name": "python3",
      "display_name": "Python 3"
    },
    "language_info": {
      "name": "python"
    }
  },
  "cells": [
    {
      "cell_type": "markdown",
      "metadata": {
        "id": "view-in-github",
        "colab_type": "text"
      },
      "source": [
        "<a href=\"https://colab.research.google.com/github/anna12gl/Homeworks/blob/main/%D0%97%D0%B0%D0%B4%D0%B0%D1%87%D0%B0%201.2%20d.ipynb\" target=\"_parent\"><img src=\"https://colab.research.google.com/assets/colab-badge.svg\" alt=\"Open In Colab\"/></a>"
      ]
    },
    {
      "cell_type": "markdown",
      "source": [
        "## Задача 1.2 пункт D.\n",
        "#### Переведите минуты и секунды в формат времени. Используйте модуль datetime "
      ],
      "metadata": {
        "id": "VO777FjTDNwP"
      }
    },
    {
      "cell_type": "code",
      "execution_count": 19,
      "metadata": {
        "colab": {
          "base_uri": "https://localhost:8080/"
        },
        "id": "ohyktWrfDMQ4",
        "outputId": "8bbe8883-f0a1-4a4d-a39a-2431236a5b68"
      },
      "outputs": [
        {
          "output_type": "stream",
          "name": "stdout",
          "text": [
            "Waste a Moment - 0:03:03.600000\n",
            "New Salvation - 0:04:02.400000\n",
            "Staying' Alive - 0:03:48\n",
            "Out of Touch - 0:03:03.600000\n",
            "A Sorta Fairytale - 0:05:33.600000\n",
            "Easy - 0:04:18\n",
            "Beautiful Day - 0:04:04.800000\n",
            "Nowhere to Run - 0:03:09.600000\n",
            "In This World - 0:04:02.400000\n"
          ]
        }
      ],
      "source": [
        "import datetime\n",
        "my_favorite_songs_dict = {\n",
        "'Waste a Moment': 3.03,\n",
        "'New Salvation': 4.02,\n",
        "'Staying\\' Alive': 3.40,\n",
        "'Out of Touch': 3.03,\n",
        "'A Sorta Fairytale': 5.28,\n",
        "'Easy': 4.15,\n",
        "'Beautiful Day': 4.04,\n",
        "'Nowhere to Run': 2.58,\n",
        "'In This World': 4.02,\n",
        "}\n",
        "for title, duration in my_favorite_songs_dict.items():\n",
        "\n",
        "  time = datetime.timedelta(minutes=duration, seconds=(duration % 1) * 60)\n",
        "  \n",
        "  print(f\"{title} - {time}\")\n",
        "\n"
      ]
    }
  ]
}
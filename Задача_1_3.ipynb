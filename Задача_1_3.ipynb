{
  "nbformat": 4,
  "nbformat_minor": 0,
  "metadata": {
    "colab": {
      "provenance": [],
      "authorship_tag": "ABX9TyOAk4LVkjVwd9U+QvVUhHKd",
      "include_colab_link": true
    },
    "kernelspec": {
      "name": "python3",
      "display_name": "Python 3"
    },
    "language_info": {
      "name": "python"
    }
  },
  "cells": [
    {
      "cell_type": "markdown",
      "metadata": {
        "id": "view-in-github",
        "colab_type": "text"
      },
      "source": [
        "<a href=\"https://colab.research.google.com/github/anna12gl/Homeworks/blob/main/%D0%97%D0%B0%D0%B4%D0%B0%D1%87%D0%B0_1_3.ipynb\" target=\"_parent\"><img src=\"https://colab.research.google.com/assets/colab-badge.svg\" alt=\"Open In Colab\"/></a>"
      ]
    },
    {
      "cell_type": "code",
      "execution_count": null,
      "metadata": {
        "id": "nSBGAURL3pXw"
      },
      "outputs": [],
      "source": []
    },
    {
      "cell_type": "markdown",
      "source": [],
      "metadata": {
        "id": "a7i8xAmG3xee"
      }
    },
    {
      "cell_type": "markdown",
      "source": [
        "###Задача 1.3.\n",
        "Напишите скрипт, который принимает от пользователя номер месяца, а возвращает количество дней в нем.\n",
        "Результат проверки вывести на консоль\n",
        "Допущение: в феврале 28 дней\n",
        "Если номер месяца некорректен - сообщить об этом\n",
        "Например,\n",
        "* Введите номер месяца: 3\n",
        "* Вы ввели март. 31 дней\n",
        "\n",
        "* Введите номер месяца: 2\n",
        "* Вы ввели февраль. 28 дней\n",
        "\n",
        "* Введите номер месяца: 15\n",
        "* Такого месяца нет!"
      ],
      "metadata": {
        "id": "tqnH7wiN36Ac"
      }
    },
    {
      "cell_type": "code",
      "source": [
        "num = int(input(\"Введите номер месяца: \"))\n",
        "\n",
        "if num < 1 or num > 12:\n",
        " print(\"Такого месяца нет!\")\n",
        "elif num == 2:\n",
        " print(\"Вы ввели февраль. 28 дней\")\n",
        "elif num in [4]:\n",
        " print(\"Вы ввели месяц апрель, который имеет 30 дней.\")\n",
        "elif num in [6]:\n",
        " print(\"Вы ввели месяц июнь, который имеет 30 дней.\")\n",
        "elif num in [9]:\n",
        " print(\"Вы ввели месяц сентябрь, который имеет 30 дней.\")\n",
        "elif num in [11]:\n",
        " print(\"Вы ввели месяц ноябрь, который имеет 30 дней.\")\n",
        "elif num in [1]:\n",
        " print(\"Вы ввели месяц январь, который имеет 31 день.\")\n",
        "elif num in [3]:\n",
        " print(\"Вы ввели месяц март , который имеет 31 день.\")\n",
        "elif num in [5]:\n",
        " print(\"Вы ввели месяц январь, который имеет 31 день.\")\n",
        "elif num in [7]:\n",
        " print(\"Вы ввели месяц июль, который имеет 31 день.\")\n",
        "elif num in [10]:\n",
        " print(\"Вы ввели месяц октябрь, который имеет 31 день.\")\n",
        "elif num in [12]:\n",
        " print(\"Вы ввели месяц декабрь, который имеет 31 день.\")"
      ],
      "metadata": {
        "colab": {
          "base_uri": "https://localhost:8080/"
        },
        "id": "xlnPZnoU3x3J",
        "outputId": "4f6c9f23-2961-4607-f534-94910aad27e9"
      },
      "execution_count": 2,
      "outputs": [
        {
          "output_type": "stream",
          "name": "stdout",
          "text": [
            "Введите номер месяца: 17\n",
            "Такого месяца нет!\n"
          ]
        }
      ]
    }
  ]
}
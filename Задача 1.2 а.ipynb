{
  "nbformat": 4,
  "nbformat_minor": 0,
  "metadata": {
    "colab": {
      "provenance": [],
      "authorship_tag": "ABX9TyOMorgM0HWwVNnWw3+xUYS4",
      "include_colab_link": true
    },
    "kernelspec": {
      "name": "python3",
      "display_name": "Python 3"
    },
    "language_info": {
      "name": "python"
    }
  },
  "cells": [
    {
      "cell_type": "markdown",
      "metadata": {
        "id": "view-in-github",
        "colab_type": "text"
      },
      "source": [
        "<a href=\"https://colab.research.google.com/github/anna12gl/Homeworks/blob/main/%D0%97%D0%B0%D0%B4%D0%B0%D1%87%D0%B0%201.2%20%D0%B0.ipynb\" target=\"_parent\"><img src=\"https://colab.research.google.com/assets/colab-badge.svg\" alt=\"Open In Colab\"/></a>"
      ]
    },
    {
      "cell_type": "markdown",
      "source": [],
      "metadata": {
        "id": "vXWNrXvDtxGX"
      }
    },
    {
      "cell_type": "markdown",
      "source": [
        "Задача 1.2.\n",
        "Пункт A.\n",
        "Приведем плейлист песен в виде списка списков\n",
        "Список my_favorite_songs содержит список названий и длительности каждого трека\n",
        "Выведите общее время звучания трех случайных песен в формате \"Три песни звучат ХХХ минут\""
      ],
      "metadata": {
        "id": "dWlcCfeNt4Xk"
      }
    },
    {
      "cell_type": "code",
      "execution_count": 2,
      "metadata": {
        "colab": {
          "base_uri": "https://localhost:8080/"
        },
        "id": "HamqCCWttbYX",
        "outputId": "3d0c9d2b-39da-41c4-fd9e-a95fe33705da"
      },
      "outputs": [
        {
          "output_type": "stream",
          "name": "stdout",
          "text": [
            "Три песни звучат 12.01 минут\n"
          ]
        }
      ],
      "source": [
        "import random\n",
        "lst =  my_favorite_songs = [\n",
        "    ['Waste a Moment', 3.03],\n",
        "    ['New Salvation', 4.02],\n",
        "    ['Staying\\' Alive', 3.40],\n",
        "    ['Out of Touch', 3.03],\n",
        "    ['A Sorta Fairytale', 5.28],\n",
        "    ['Easy', 4.15],\n",
        "    ['Beautiful Day', 4.04],\n",
        "    ['Nowhere to Run', 2.58],\n",
        "    ['In This World', 4.02]]\n",
        "random_songs = random.sample(my_favorite_songs, 3)\n",
        "total_duration = sum([song[1] for song in random_songs])\n",
        "print(f\"Три песни звучат {total_duration:.2f} минут\")"
      ]
    }
  ]
}
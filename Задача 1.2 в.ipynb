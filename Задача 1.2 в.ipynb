{
  "nbformat": 4,
  "nbformat_minor": 0,
  "metadata": {
    "colab": {
      "provenance": [],
      "authorship_tag": "ABX9TyOD0oeA27fcMLRRUstPzG1k",
      "include_colab_link": true
    },
    "kernelspec": {
      "name": "python3",
      "display_name": "Python 3"
    },
    "language_info": {
      "name": "python"
    }
  },
  "cells": [
    {
      "cell_type": "markdown",
      "metadata": {
        "id": "view-in-github",
        "colab_type": "text"
      },
      "source": [
        "<a href=\"https://colab.research.google.com/github/anna12gl/Homeworks/blob/main/%D0%97%D0%B0%D0%B4%D0%B0%D1%87%D0%B0%201.2%20%D0%B2.ipynb\" target=\"_parent\"><img src=\"https://colab.research.google.com/assets/colab-badge.svg\" alt=\"Open In Colab\"/></a>"
      ]
    },
    {
      "cell_type": "markdown",
      "source": [
        "## Есть словарь песен\n",
        "#### Распечатайте общее время звучания трех случайных песен\n",
        "#### Вывод: Три песни звучат ХХХ минут."
      ],
      "metadata": {
        "id": "ZoJDf81b-y1L"
      }
    },
    {
      "cell_type": "code",
      "execution_count": 1,
      "metadata": {
        "colab": {
          "base_uri": "https://localhost:8080/"
        },
        "id": "Dg1pZ8Vh-wm2",
        "outputId": "65445981-d46e-4a8e-ab76-612bb93123e7"
      },
      "outputs": [
        {
          "output_type": "stream",
          "name": "stdout",
          "text": [
            "Три песни звучат 10.77 минут.\n"
          ]
        },
        {
          "output_type": "stream",
          "name": "stderr",
          "text": [
            "<ipython-input-1-0e3dab0e4dd2>:12: DeprecationWarning: Sampling from a set deprecated\n",
            "since Python 3.9 and will be removed in a subsequent version.\n",
            "  songs = random.sample(my_favorite_songs_dict.keys(), 3)\n"
          ]
        }
      ],
      "source": [
        "import random\n",
        "my_favorite_songs_dict= {\n",
        "    'Waste a Moment': 3.03,\n",
        "    'New Salvation': 4.02,\n",
        "    'Staying\\' Alive': 3.40,\n",
        "    'Out of Touch': 3.03,\n",
        "    'A Sorta Fairytale': 5.28,\n",
        "    'Easy': 4.15,\n",
        "    'Beautiful Day': 4.04,\n",
        "    'Nowhere to Run': 2.58,\n",
        "    'In This World': 4.02}\n",
        "songs = random.sample(my_favorite_songs_dict.keys(), 3)\n",
        "total_time = sum([my_favorite_songs_dict[song] for song in songs])\n",
        "print(f\"Три песни звучат {total_time:.2f} минут.\")"
      ]
    }
  ]
}
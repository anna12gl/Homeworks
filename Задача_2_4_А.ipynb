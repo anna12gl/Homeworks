{
  "nbformat": 4,
  "nbformat_minor": 0,
  "metadata": {
    "colab": {
      "provenance": [],
      "authorship_tag": "ABX9TyOSl4Qps/USDTxcsHcITvA2",
      "include_colab_link": true
    },
    "kernelspec": {
      "name": "python3",
      "display_name": "Python 3"
    },
    "language_info": {
      "name": "python"
    }
  },
  "cells": [
    {
      "cell_type": "markdown",
      "metadata": {
        "id": "view-in-github",
        "colab_type": "text"
      },
      "source": [
        "<a href=\"https://colab.research.google.com/github/anna12gl/Homeworks/blob/main/%D0%97%D0%B0%D0%B4%D0%B0%D1%87%D0%B0_2_4_%D0%90.ipynb\" target=\"_parent\"><img src=\"https://colab.research.google.com/assets/colab-badge.svg\" alt=\"Open In Colab\"/></a>"
      ]
    },
    {
      "cell_type": "markdown",
      "source": [
        "##Задача 2.4.\n",
        "#####Пункт A.\n",
        "######## Напишите функцию, которая удаляет все восклицательные знаки из заданной строк.\n",
        "* Например,\n",
        "* foo(\"Hi! Hello!\") -> \"Hi Hello\"\n",
        "* foo(\"\") -> \"\"\n",
        "* foo(\"Oh, no!!!\") -> \"Oh, no\"\n",
        "\n",
        "def remove_exclamation_marks(s):\n",
        "    pass"
      ],
      "metadata": {
        "id": "1Pf2eEgpA5c9"
      }
    },
    {
      "cell_type": "code",
      "execution_count": 2,
      "metadata": {
        "colab": {
          "base_uri": "https://localhost:8080/"
        },
        "id": "BVxAWjxzADI5",
        "outputId": "081a4396-75d0-427d-f53d-f7c3a8edefbf"
      },
      "outputs": [
        {
          "output_type": "stream",
          "name": "stdout",
          "text": [
            "Hi Hello\n",
            "\n",
            "Oh, no\n"
          ]
        }
      ],
      "source": [
        "def remove_exclamation_marks(s):\n",
        "  return s.replace('!', '')\n",
        "\n",
        "print(remove_exclamation_marks(\"Hi! Hello!\"))\n",
        "print(remove_exclamation_marks(\"\"))\n",
        "print(remove_exclamation_marks(\"Oh, no!!!\")) "
      ]
    }
  ]
}